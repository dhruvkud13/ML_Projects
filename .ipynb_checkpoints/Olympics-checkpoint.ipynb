{
 "cells": [
  {
   "cell_type": "code",
   "execution_count": 1,
   "id": "df8dbc00",
   "metadata": {},
   "outputs": [
    {
     "data": {
      "text/html": [
       "<div>\n",
       "<style scoped>\n",
       "    .dataframe tbody tr th:only-of-type {\n",
       "        vertical-align: middle;\n",
       "    }\n",
       "\n",
       "    .dataframe tbody tr th {\n",
       "        vertical-align: top;\n",
       "    }\n",
       "\n",
       "    .dataframe thead th {\n",
       "        text-align: right;\n",
       "    }\n",
       "</style>\n",
       "<table border=\"1\" class=\"dataframe\">\n",
       "  <thead>\n",
       "    <tr style=\"text-align: right;\">\n",
       "      <th></th>\n",
       "      <th>Athlete</th>\n",
       "      <th>Age</th>\n",
       "      <th>Country</th>\n",
       "      <th>Year</th>\n",
       "      <th>Closing Ceremony Date</th>\n",
       "      <th>Sport</th>\n",
       "      <th>Gold Medals</th>\n",
       "      <th>Silver Medals</th>\n",
       "      <th>Bronze Medals</th>\n",
       "      <th>Total Medals</th>\n",
       "    </tr>\n",
       "  </thead>\n",
       "  <tbody>\n",
       "    <tr>\n",
       "      <th>0</th>\n",
       "      <td>Michael Phelps</td>\n",
       "      <td>23.0</td>\n",
       "      <td>United States</td>\n",
       "      <td>2008</td>\n",
       "      <td>2008-08-24</td>\n",
       "      <td>Swimming</td>\n",
       "      <td>8</td>\n",
       "      <td>0</td>\n",
       "      <td>0</td>\n",
       "      <td>8</td>\n",
       "    </tr>\n",
       "    <tr>\n",
       "      <th>1</th>\n",
       "      <td>Michael Phelps</td>\n",
       "      <td>19.0</td>\n",
       "      <td>United States</td>\n",
       "      <td>2004</td>\n",
       "      <td>2004-08-29</td>\n",
       "      <td>Swimming</td>\n",
       "      <td>6</td>\n",
       "      <td>0</td>\n",
       "      <td>2</td>\n",
       "      <td>8</td>\n",
       "    </tr>\n",
       "    <tr>\n",
       "      <th>2</th>\n",
       "      <td>Michael Phelps</td>\n",
       "      <td>27.0</td>\n",
       "      <td>United States</td>\n",
       "      <td>2012</td>\n",
       "      <td>2012-08-12</td>\n",
       "      <td>Swimming</td>\n",
       "      <td>4</td>\n",
       "      <td>2</td>\n",
       "      <td>0</td>\n",
       "      <td>6</td>\n",
       "    </tr>\n",
       "    <tr>\n",
       "      <th>3</th>\n",
       "      <td>Natalie Coughlin</td>\n",
       "      <td>25.0</td>\n",
       "      <td>United States</td>\n",
       "      <td>2008</td>\n",
       "      <td>2008-08-24</td>\n",
       "      <td>Swimming</td>\n",
       "      <td>1</td>\n",
       "      <td>2</td>\n",
       "      <td>3</td>\n",
       "      <td>6</td>\n",
       "    </tr>\n",
       "    <tr>\n",
       "      <th>4</th>\n",
       "      <td>Aleksey Nemov</td>\n",
       "      <td>24.0</td>\n",
       "      <td>Russia</td>\n",
       "      <td>2000</td>\n",
       "      <td>2000-10-01</td>\n",
       "      <td>Gymnastics</td>\n",
       "      <td>2</td>\n",
       "      <td>1</td>\n",
       "      <td>3</td>\n",
       "      <td>6</td>\n",
       "    </tr>\n",
       "  </tbody>\n",
       "</table>\n",
       "</div>"
      ],
      "text/plain": [
       "            Athlete   Age        Country  Year Closing Ceremony Date  \\\n",
       "0    Michael Phelps  23.0  United States  2008            2008-08-24   \n",
       "1    Michael Phelps  19.0  United States  2004            2004-08-29   \n",
       "2    Michael Phelps  27.0  United States  2012            2012-08-12   \n",
       "3  Natalie Coughlin  25.0  United States  2008            2008-08-24   \n",
       "4     Aleksey Nemov  24.0         Russia  2000            2000-10-01   \n",
       "\n",
       "        Sport  Gold Medals  Silver Medals  Bronze Medals  Total Medals  \n",
       "0    Swimming            8              0              0             8  \n",
       "1    Swimming            6              0              2             8  \n",
       "2    Swimming            4              2              0             6  \n",
       "3    Swimming            1              2              3             6  \n",
       "4  Gymnastics            2              1              3             6  "
      ]
     },
     "execution_count": 1,
     "metadata": {},
     "output_type": "execute_result"
    }
   ],
   "source": [
    "import pandas as pd\n",
    "olympics= pd.read_excel(\"Olympic Athletes.xlsx\")\n",
    "olympics.head()"
   ]
  },
  {
   "cell_type": "code",
   "execution_count": 3,
   "id": "697ed5f4",
   "metadata": {},
   "outputs": [
    {
     "data": {
      "text/plain": [
       "Country\n",
       "United States    1312\n",
       "Russia            768\n",
       "Germany           629\n",
       "Australia         609\n",
       "China             530\n",
       "Name: Total Medals, dtype: int64"
      ]
     },
     "execution_count": 3,
     "metadata": {},
     "output_type": "execute_result"
    }
   ],
   "source": [
    "olympics_country= olympics.groupby('Country')\n",
    "olympics_country= olympics_country['Total Medals'].sum()\n",
    "olympics_country= olympics_country.sort_values(ascending=False)\n",
    "olympics_country.head()"
   ]
  },
  {
   "cell_type": "code",
   "execution_count": 4,
   "id": "f645ae56",
   "metadata": {},
   "outputs": [
    {
     "data": {
      "text/plain": [
       "Country\n",
       "United States    552\n",
       "Russia           234\n",
       "China            234\n",
       "Germany          223\n",
       "Canada           168\n",
       "Name: Gold Medals, dtype: int64"
      ]
     },
     "execution_count": 4,
     "metadata": {},
     "output_type": "execute_result"
    }
   ],
   "source": [
    "olympics_gold= olympics.groupby('Country')\n",
    "olympics_gold= olympics_gold['Gold Medals'].sum().sort_values(ascending=False)\n",
    "olympics_gold.head()"
   ]
  },
  {
   "cell_type": "code",
   "execution_count": 6,
   "id": "cca5f514",
   "metadata": {},
   "outputs": [
    {
     "name": "stdout",
     "output_type": "stream",
     "text": [
      "enter sport:Swimming\n"
     ]
    },
    {
     "data": {
      "text/plain": [
       "Country\n",
       "United States    267\n",
       "Australia        163\n",
       "Netherlands       46\n",
       "Japan             43\n",
       "France            39\n",
       "Name: Total Medals, dtype: int64"
      ]
     },
     "execution_count": 6,
     "metadata": {},
     "output_type": "execute_result"
    }
   ],
   "source": [
    "x= input('enter sport:')\n",
    "olympics_swimming= olympics[olympics['Sport']== x]\n",
    "\n",
    "country_medals= olympics_swimming.groupby('Country')['Total Medals'].sum().sort_values(ascending=False)\n",
    "country_medals.head()"
   ]
  },
  {
   "cell_type": "code",
   "execution_count": 7,
   "id": "213d440d",
   "metadata": {},
   "outputs": [
    {
     "data": {
      "text/plain": [
       "Athlete\n",
       "Michael Phelps          22\n",
       "Natalie Coughlin        12\n",
       "Ryan Lochte             11\n",
       "Leisel Jones             9\n",
       "Ole Einar Bjørndalen     9\n",
       "Name: Total Medals, dtype: int64"
      ]
     },
     "execution_count": 7,
     "metadata": {},
     "output_type": "execute_result"
    }
   ],
   "source": [
    "olympics_athletes= olympics.groupby('Athlete')\n",
    "olympics_athletes= olympics_athletes['Total Medals'].sum().sort_values(ascending=False)\n",
    "olympics_athletes.head()"
   ]
  },
  {
   "cell_type": "code",
   "execution_count": 8,
   "id": "8cab3311",
   "metadata": {},
   "outputs": [
    {
     "name": "stdout",
     "output_type": "stream",
     "text": [
      "enter sport:Swimming\n"
     ]
    },
    {
     "data": {
      "text/plain": [
       "Athlete\n",
       "Michael Phelps      22\n",
       "Natalie Coughlin    12\n",
       "Ryan Lochte         11\n",
       "Ian Thorpe           9\n",
       "Leisel Jones         9\n",
       "Name: Total Medals, dtype: int64"
      ]
     },
     "execution_count": 8,
     "metadata": {},
     "output_type": "execute_result"
    }
   ],
   "source": [
    "x= input('enter sport:')\n",
    "olympics_athlete= olympics[olympics['Sport']== x]\n",
    "\n",
    "athlete_medal= olympics_athlete.groupby('Athlete')['Total Medals'].sum().sort_values(ascending=False)\n",
    "athlete_medal.head()"
   ]
  },
  {
   "cell_type": "code",
   "execution_count": 9,
   "id": "010e67f8",
   "metadata": {},
   "outputs": [
    {
     "data": {
      "text/plain": [
       "Age\n",
       "24.0    807\n",
       "26.0    765\n",
       "25.0    763\n",
       "23.0    757\n",
       "27.0    724\n",
       "Name: Total Medals, dtype: int64"
      ]
     },
     "execution_count": 9,
     "metadata": {},
     "output_type": "execute_result"
    }
   ],
   "source": [
    "olympics_age= olympics.groupby('Age')\n",
    "olympics_age= olympics_age['Total Medals'].sum().sort_values(ascending=False)\n",
    "olympics_age.head()"
   ]
  },
  {
   "cell_type": "code",
   "execution_count": null,
   "id": "8378ad01",
   "metadata": {},
   "outputs": [],
   "source": []
  },
  {
   "cell_type": "code",
   "execution_count": null,
   "id": "f2a50e36",
   "metadata": {},
   "outputs": [],
   "source": []
  }
 ],
 "metadata": {
  "kernelspec": {
   "display_name": "Python 3 (ipykernel)",
   "language": "python",
   "name": "python3"
  },
  "language_info": {
   "codemirror_mode": {
    "name": "ipython",
    "version": 3
   },
   "file_extension": ".py",
   "mimetype": "text/x-python",
   "name": "python",
   "nbconvert_exporter": "python",
   "pygments_lexer": "ipython3",
   "version": "3.10.2"
  }
 },
 "nbformat": 4,
 "nbformat_minor": 5
}
