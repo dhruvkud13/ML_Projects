{
 "cells": [
  {
   "cell_type": "markdown",
   "id": "7904928a",
   "metadata": {},
   "source": [
    "Logistic regression is a linear model that predicts the probability of a binary outcome, such as whether a passenger survived the Titanic or not. The model works by fitting a line to the data, and then using the line to predict the probability of an outcome.\n",
    "\n",
    "Decision tree is a non-linear model that predicts the outcome of a classification problem by creating a tree-like structure. The tree is created by splitting the data into smaller and smaller groups, until each group contains only data points with the same outcome.\n",
    "\n",
    "Random forest is an ensemble model that combines multiple decision trees to make predictions. The model works by training multiple decision trees on different subsets of the data, and then combining the predictions of the trees to make a final prediction.\n",
    "\n",
    "Support vector machine is a non-linear model that predicts the outcome of a classification problem by finding the hyperplane that best separates the data points into two groups. The hyperplane is the line that minimizes the distance between the data points of each group.\n",
    "\n",
    "K-nearest neighbors is a non-parametric model that predicts the outcome of a classification problem by finding the k data points that are closest to the new data point. The model then predicts the outcome of the new data point based on the outcomes of the k nearest neighbors."
   ]
  },
  {
   "cell_type": "code",
   "execution_count": 1,
   "id": "d94e86ef",
   "metadata": {},
   "outputs": [
    {
     "data": {
      "text/html": [
       "<div>\n",
       "<style scoped>\n",
       "    .dataframe tbody tr th:only-of-type {\n",
       "        vertical-align: middle;\n",
       "    }\n",
       "\n",
       "    .dataframe tbody tr th {\n",
       "        vertical-align: top;\n",
       "    }\n",
       "\n",
       "    .dataframe thead th {\n",
       "        text-align: right;\n",
       "    }\n",
       "</style>\n",
       "<table border=\"1\" class=\"dataframe\">\n",
       "  <thead>\n",
       "    <tr style=\"text-align: right;\">\n",
       "      <th></th>\n",
       "      <th>PassengerId</th>\n",
       "      <th>Survived</th>\n",
       "      <th>Pclass</th>\n",
       "      <th>Name</th>\n",
       "      <th>Sex</th>\n",
       "      <th>Age</th>\n",
       "      <th>SibSp</th>\n",
       "      <th>Parch</th>\n",
       "      <th>Ticket</th>\n",
       "      <th>Fare</th>\n",
       "      <th>Cabin</th>\n",
       "      <th>Embarked</th>\n",
       "    </tr>\n",
       "  </thead>\n",
       "  <tbody>\n",
       "    <tr>\n",
       "      <th>0</th>\n",
       "      <td>1</td>\n",
       "      <td>0</td>\n",
       "      <td>3</td>\n",
       "      <td>Braund, Mr. Owen Harris</td>\n",
       "      <td>male</td>\n",
       "      <td>22.0</td>\n",
       "      <td>1</td>\n",
       "      <td>0</td>\n",
       "      <td>A/5 21171</td>\n",
       "      <td>7.2500</td>\n",
       "      <td>NaN</td>\n",
       "      <td>S</td>\n",
       "    </tr>\n",
       "    <tr>\n",
       "      <th>1</th>\n",
       "      <td>2</td>\n",
       "      <td>1</td>\n",
       "      <td>1</td>\n",
       "      <td>Cumings, Mrs. John Bradley (Florence Briggs Th...</td>\n",
       "      <td>female</td>\n",
       "      <td>38.0</td>\n",
       "      <td>1</td>\n",
       "      <td>0</td>\n",
       "      <td>PC 17599</td>\n",
       "      <td>71.2833</td>\n",
       "      <td>C85</td>\n",
       "      <td>C</td>\n",
       "    </tr>\n",
       "    <tr>\n",
       "      <th>2</th>\n",
       "      <td>3</td>\n",
       "      <td>1</td>\n",
       "      <td>3</td>\n",
       "      <td>Heikkinen, Miss. Laina</td>\n",
       "      <td>female</td>\n",
       "      <td>26.0</td>\n",
       "      <td>0</td>\n",
       "      <td>0</td>\n",
       "      <td>STON/O2. 3101282</td>\n",
       "      <td>7.9250</td>\n",
       "      <td>NaN</td>\n",
       "      <td>S</td>\n",
       "    </tr>\n",
       "    <tr>\n",
       "      <th>3</th>\n",
       "      <td>4</td>\n",
       "      <td>1</td>\n",
       "      <td>1</td>\n",
       "      <td>Futrelle, Mrs. Jacques Heath (Lily May Peel)</td>\n",
       "      <td>female</td>\n",
       "      <td>35.0</td>\n",
       "      <td>1</td>\n",
       "      <td>0</td>\n",
       "      <td>113803</td>\n",
       "      <td>53.1000</td>\n",
       "      <td>C123</td>\n",
       "      <td>S</td>\n",
       "    </tr>\n",
       "    <tr>\n",
       "      <th>4</th>\n",
       "      <td>5</td>\n",
       "      <td>0</td>\n",
       "      <td>3</td>\n",
       "      <td>Allen, Mr. William Henry</td>\n",
       "      <td>male</td>\n",
       "      <td>35.0</td>\n",
       "      <td>0</td>\n",
       "      <td>0</td>\n",
       "      <td>373450</td>\n",
       "      <td>8.0500</td>\n",
       "      <td>NaN</td>\n",
       "      <td>S</td>\n",
       "    </tr>\n",
       "  </tbody>\n",
       "</table>\n",
       "</div>"
      ],
      "text/plain": [
       "   PassengerId  Survived  Pclass  \\\n",
       "0            1         0       3   \n",
       "1            2         1       1   \n",
       "2            3         1       3   \n",
       "3            4         1       1   \n",
       "4            5         0       3   \n",
       "\n",
       "                                                Name     Sex   Age  SibSp  \\\n",
       "0                            Braund, Mr. Owen Harris    male  22.0      1   \n",
       "1  Cumings, Mrs. John Bradley (Florence Briggs Th...  female  38.0      1   \n",
       "2                             Heikkinen, Miss. Laina  female  26.0      0   \n",
       "3       Futrelle, Mrs. Jacques Heath (Lily May Peel)  female  35.0      1   \n",
       "4                           Allen, Mr. William Henry    male  35.0      0   \n",
       "\n",
       "   Parch            Ticket     Fare Cabin Embarked  \n",
       "0      0         A/5 21171   7.2500   NaN        S  \n",
       "1      0          PC 17599  71.2833   C85        C  \n",
       "2      0  STON/O2. 3101282   7.9250   NaN        S  \n",
       "3      0            113803  53.1000  C123        S  \n",
       "4      0            373450   8.0500   NaN        S  "
      ]
     },
     "execution_count": 1,
     "metadata": {},
     "output_type": "execute_result"
    }
   ],
   "source": [
    "import pandas as pd\n",
    "import numpy as np\n",
    "data= pd.read_csv(\"titanic.csv\")\n",
    "data.head()"
   ]
  },
  {
   "cell_type": "code",
   "execution_count": 3,
   "id": "2701cc98",
   "metadata": {},
   "outputs": [
    {
     "name": "stdout",
     "output_type": "stream",
     "text": [
      "0      1\n",
      "1      0\n",
      "2      0\n",
      "3      0\n",
      "4      1\n",
      "      ..\n",
      "886    1\n",
      "887    0\n",
      "888    0\n",
      "889    1\n",
      "890    1\n",
      "Name: Sex, Length: 891, dtype: int64\n",
      "Accuracy:  0.8025210084033614\n"
     ]
    }
   ],
   "source": [
    "from sklearn.linear_model import LogisticRegression\n",
    "from sklearn.preprocessing import LabelEncoder\n",
    "\n",
    "encoder= LabelEncoder()\n",
    "data[\"Sex\"]= encoder.fit_transform(data[\"Sex\"])\n",
    "print(data[\"Sex\"])\n",
    "\n",
    "data= data.dropna(subset=[\"Age\",\"SibSp\",\"Parch\",\"Fare\"])\n",
    "\n",
    "x= data[[\"Pclass\",\"Sex\",\"Age\",\"SibSp\",\"Parch\",\"Fare\"]]\n",
    "y= data[\"Survived\"]\n",
    "\n",
    "model= LogisticRegression()\n",
    "model.fit(x,y)\n",
    "\n",
    "score= model.score(x,y)\n",
    "print(\"Accuracy: \", score)"
   ]
  },
  {
   "cell_type": "code",
   "execution_count": 5,
   "id": "e271065a",
   "metadata": {},
   "outputs": [
    {
     "name": "stdout",
     "output_type": "stream",
     "text": [
      "accuracy:  0.9859943977591037\n"
     ]
    }
   ],
   "source": [
    "from sklearn.preprocessing import LabelEncoder\n",
    "from sklearn.tree import DecisionTreeClassifier \n",
    "\n",
    "encoder= LabelEncoder()\n",
    "data[\"Sex\"]= encoder.fit_transform(data[\"Sex\"])\n",
    "# print(data[\"Sex\"])\n",
    "\n",
    "data= data.dropna(subset=[\"Age\",\"SibSp\",\"Parch\",\"Fare\"])\n",
    "\n",
    "x= data[[\"Pclass\",\"Sex\",\"Age\",\"SibSp\",\"Parch\",\"Fare\"]]\n",
    "y= data[\"Survived\"]\n",
    "\n",
    "model= DecisionTreeClassifier()\n",
    "model.fit(x,y)\n",
    "\n",
    "score= model.score(x,y)\n",
    "print(\"accuracy: \", score)\n"
   ]
  },
  {
   "cell_type": "code",
   "execution_count": 6,
   "id": "2df9980b",
   "metadata": {},
   "outputs": [
    {
     "name": "stdout",
     "output_type": "stream",
     "text": [
      "accuracy:  0.9859943977591037\n"
     ]
    }
   ],
   "source": [
    "from sklearn.preprocessing import LabelEncoder\n",
    "from sklearn.ensemble import RandomForestClassifier\n",
    "\n",
    "encoder= LabelEncoder()\n",
    "data[\"Sex\"]= encoder.fit_transform(data[\"Sex\"])\n",
    "# print(data[\"Sex\"])\n",
    "\n",
    "data= data.dropna(subset=[\"Age\",\"SibSp\",\"Parch\",\"Fare\"])\n",
    "\n",
    "x= data[[\"Pclass\",\"Sex\",\"Age\",\"SibSp\",\"Parch\",\"Fare\"]]\n",
    "y= data[\"Survived\"]\n",
    "\n",
    "model= RandomForestClassifier()\n",
    "model.fit(x,y)\n",
    "\n",
    "score= model.score(x,y)\n",
    "print(\"accuracy: \", score)"
   ]
  },
  {
   "cell_type": "code",
   "execution_count": 7,
   "id": "fc568bd9",
   "metadata": {},
   "outputs": [
    {
     "name": "stdout",
     "output_type": "stream",
     "text": [
      "accuracy:  0.6764705882352942\n"
     ]
    }
   ],
   "source": [
    "from sklearn.preprocessing import LabelEncoder\n",
    "from sklearn.svm import SVC\n",
    "\n",
    "encoder= LabelEncoder()\n",
    "data[\"Sex\"]= encoder.fit_transform(data[\"Sex\"])\n",
    "# print(data[\"Sex\"])\n",
    "\n",
    "data= data.dropna(subset=[\"Age\",\"SibSp\",\"Parch\",\"Fare\"])\n",
    "\n",
    "x= data[[\"Pclass\",\"Sex\",\"Age\",\"SibSp\",\"Parch\",\"Fare\"]]\n",
    "y= data[\"Survived\"]\n",
    "\n",
    "model= SVC()\n",
    "model.fit(x,y)\n",
    "\n",
    "score= model.score(x,y)\n",
    "print(\"accuracy: \",score)"
   ]
  },
  {
   "cell_type": "code",
   "execution_count": 10,
   "id": "f94110ba",
   "metadata": {},
   "outputs": [
    {
     "name": "stdout",
     "output_type": "stream",
     "text": [
      "accuracy:  0.7941176470588235\n"
     ]
    }
   ],
   "source": [
    "from sklearn.preprocessing import LabelEncoder\n",
    "from sklearn.neighbors import KNeighborsClassifier\n",
    "\n",
    "encoder= LabelEncoder()\n",
    "data[\"Sex\"]= encoder.fit_transform(data[\"Sex\"])\n",
    "# print(data[\"Sex\"])\n",
    "\n",
    "data= data.dropna(subset=[\"Age\",\"SibSp\",\"Parch\",\"Fare\"])\n",
    "\n",
    "x= data[[\"Pclass\",\"Sex\",\"Age\",\"SibSp\",\"Parch\",\"Fare\"]]\n",
    "y= data[\"Survived\"]\n",
    "\n",
    "model= KNeighborsClassifier()\n",
    "model.fit(x,y)\n",
    "\n",
    "score= model.score(x,y)\n",
    "print(\"accuracy: \", score)"
   ]
  },
  {
   "cell_type": "code",
   "execution_count": null,
   "id": "8f760476",
   "metadata": {},
   "outputs": [],
   "source": []
  }
 ],
 "metadata": {
  "kernelspec": {
   "display_name": "Python 3 (ipykernel)",
   "language": "python",
   "name": "python3"
  },
  "language_info": {
   "codemirror_mode": {
    "name": "ipython",
    "version": 3
   },
   "file_extension": ".py",
   "mimetype": "text/x-python",
   "name": "python",
   "nbconvert_exporter": "python",
   "pygments_lexer": "ipython3",
   "version": "3.10.2"
  }
 },
 "nbformat": 4,
 "nbformat_minor": 5
}
