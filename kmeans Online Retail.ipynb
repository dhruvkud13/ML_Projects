{
 "cells": [
  {
   "cell_type": "code",
   "execution_count": 32,
   "id": "1b4f43b8",
   "metadata": {},
   "outputs": [
    {
     "data": {
      "text/html": [
       "<div>\n",
       "<style scoped>\n",
       "    .dataframe tbody tr th:only-of-type {\n",
       "        vertical-align: middle;\n",
       "    }\n",
       "\n",
       "    .dataframe tbody tr th {\n",
       "        vertical-align: top;\n",
       "    }\n",
       "\n",
       "    .dataframe thead th {\n",
       "        text-align: right;\n",
       "    }\n",
       "</style>\n",
       "<table border=\"1\" class=\"dataframe\">\n",
       "  <thead>\n",
       "    <tr style=\"text-align: right;\">\n",
       "      <th></th>\n",
       "      <th>InvoiceNo</th>\n",
       "      <th>StockCode</th>\n",
       "      <th>Description</th>\n",
       "      <th>Quantity</th>\n",
       "      <th>InvoiceDate</th>\n",
       "      <th>UnitPrice</th>\n",
       "      <th>CustomerID</th>\n",
       "      <th>Country</th>\n",
       "    </tr>\n",
       "  </thead>\n",
       "  <tbody>\n",
       "    <tr>\n",
       "      <th>0</th>\n",
       "      <td>536365</td>\n",
       "      <td>85123A</td>\n",
       "      <td>WHITE HANGING HEART T-LIGHT HOLDER</td>\n",
       "      <td>6</td>\n",
       "      <td>01-12-2010 08:26</td>\n",
       "      <td>2.55</td>\n",
       "      <td>17850.0</td>\n",
       "      <td>United Kingdom</td>\n",
       "    </tr>\n",
       "    <tr>\n",
       "      <th>1</th>\n",
       "      <td>536365</td>\n",
       "      <td>71053</td>\n",
       "      <td>WHITE METAL LANTERN</td>\n",
       "      <td>6</td>\n",
       "      <td>01-12-2010 08:26</td>\n",
       "      <td>3.39</td>\n",
       "      <td>17850.0</td>\n",
       "      <td>United Kingdom</td>\n",
       "    </tr>\n",
       "    <tr>\n",
       "      <th>2</th>\n",
       "      <td>536365</td>\n",
       "      <td>84406B</td>\n",
       "      <td>CREAM CUPID HEARTS COAT HANGER</td>\n",
       "      <td>8</td>\n",
       "      <td>01-12-2010 08:26</td>\n",
       "      <td>2.75</td>\n",
       "      <td>17850.0</td>\n",
       "      <td>United Kingdom</td>\n",
       "    </tr>\n",
       "    <tr>\n",
       "      <th>3</th>\n",
       "      <td>536365</td>\n",
       "      <td>84029G</td>\n",
       "      <td>KNITTED UNION FLAG HOT WATER BOTTLE</td>\n",
       "      <td>6</td>\n",
       "      <td>01-12-2010 08:26</td>\n",
       "      <td>3.39</td>\n",
       "      <td>17850.0</td>\n",
       "      <td>United Kingdom</td>\n",
       "    </tr>\n",
       "    <tr>\n",
       "      <th>4</th>\n",
       "      <td>536365</td>\n",
       "      <td>84029E</td>\n",
       "      <td>RED WOOLLY HOTTIE WHITE HEART.</td>\n",
       "      <td>6</td>\n",
       "      <td>01-12-2010 08:26</td>\n",
       "      <td>3.39</td>\n",
       "      <td>17850.0</td>\n",
       "      <td>United Kingdom</td>\n",
       "    </tr>\n",
       "  </tbody>\n",
       "</table>\n",
       "</div>"
      ],
      "text/plain": [
       "  InvoiceNo StockCode                          Description  Quantity  \\\n",
       "0    536365    85123A   WHITE HANGING HEART T-LIGHT HOLDER         6   \n",
       "1    536365     71053                  WHITE METAL LANTERN         6   \n",
       "2    536365    84406B       CREAM CUPID HEARTS COAT HANGER         8   \n",
       "3    536365    84029G  KNITTED UNION FLAG HOT WATER BOTTLE         6   \n",
       "4    536365    84029E       RED WOOLLY HOTTIE WHITE HEART.         6   \n",
       "\n",
       "        InvoiceDate  UnitPrice  CustomerID         Country  \n",
       "0  01-12-2010 08:26       2.55     17850.0  United Kingdom  \n",
       "1  01-12-2010 08:26       3.39     17850.0  United Kingdom  \n",
       "2  01-12-2010 08:26       2.75     17850.0  United Kingdom  \n",
       "3  01-12-2010 08:26       3.39     17850.0  United Kingdom  \n",
       "4  01-12-2010 08:26       3.39     17850.0  United Kingdom  "
      ]
     },
     "execution_count": 32,
     "metadata": {},
     "output_type": "execute_result"
    }
   ],
   "source": [
    "import pandas as pd\n",
    "data= pd.read_csv('Online Retail.csv')\n",
    "data.head()"
   ]
  },
  {
   "cell_type": "code",
   "execution_count": 33,
   "id": "ed937d01",
   "metadata": {},
   "outputs": [],
   "source": [
    "features= [\"Quantity\",\"UnitPrice\",\"CustomerID\"]"
   ]
  },
  {
   "cell_type": "code",
   "execution_count": 34,
   "id": "178b548c",
   "metadata": {},
   "outputs": [],
   "source": [
    "data[features]= data[features].apply(pd.to_numeric,errors='coerce')\n",
    "data[features]= data[features].fillna(0)"
   ]
  },
  {
   "cell_type": "code",
   "execution_count": 35,
   "id": "5cb07927",
   "metadata": {},
   "outputs": [],
   "source": [
    "from sklearn.cluster import KMeans"
   ]
  },
  {
   "cell_type": "code",
   "execution_count": 36,
   "id": "1dedd76e",
   "metadata": {},
   "outputs": [],
   "source": [
    "def kmeans(data,k):\n",
    "    model= KMeans(n_clusters=k)\n",
    "    model.fit(data)\n",
    "    return model.labels_"
   ]
  },
  {
   "cell_type": "code",
   "execution_count": 37,
   "id": "67229f19",
   "metadata": {},
   "outputs": [],
   "source": [
    "clusters= kmeans(data[features],4)"
   ]
  },
  {
   "cell_type": "code",
   "execution_count": 38,
   "id": "3ecc4a72",
   "metadata": {},
   "outputs": [
    {
     "name": "stdout",
     "output_type": "stream",
     "text": [
      "[0 0 0 ... 2 2 2]\n"
     ]
    }
   ],
   "source": [
    "print(clusters)"
   ]
  },
  {
   "cell_type": "code",
   "execution_count": 39,
   "id": "5652ea24",
   "metadata": {},
   "outputs": [
    {
     "data": {
      "image/png": "[encoded data removed]",
      "text/plain": [
       "<Figure size 432x288 with 1 Axes>"
      ]
     },
     "metadata": {
      "needs_background": "light"
     },
     "output_type": "display_data"
    }
   ],
   "source": [
    "import matplotlib.pyplot as plt\n",
    "for i in range(4):\n",
    "    plt.plot(data.loc[clusters==i,\"Quantity\"],data.loc[clusters==i,\"UnitPrice\"],\"o\", color=\"C\"+str(i))\n",
    "plt.show()"
   ]
  },
  {
   "cell_type": "code",
   "execution_count": 40,
   "id": "df933a81",
   "metadata": {},
   "outputs": [
    {
     "name": "stdout",
     "output_type": "stream",
     "text": [
      "Customer 17850.0 is bulk\n",
      "Customer 17850.0 is bulk\n",
      "Customer 17850.0 is bulk\n",
      "Customer 17850.0 is bulk\n",
      "Customer 17850.0 is bulk\n",
      "Customer 17850.0 is bulk\n",
      "Customer 17850.0 is bulk\n",
      "Customer 17850.0 is bulk\n",
      "Customer 17850.0 is bulk\n",
      "Customer 13047.0 is unique\n",
      "Customer 13047.0 is unique\n",
      "Customer 13047.0 is unique\n",
      "Customer 13047.0 is unique\n",
      "Customer 13047.0 is unique\n",
      "Customer 13047.0 is unique\n",
      "Customer 13047.0 is unique\n",
      "Customer 13047.0 is unique\n",
      "Customer 13047.0 is unique\n",
      "Customer 13047.0 is unique\n",
      "Customer 13047.0 is unique\n",
      "Customer 13047.0 is unique\n",
      "Customer 13047.0 is unique\n",
      "Customer 13047.0 is unique\n",
      "Customer 13047.0 is unique\n",
      "Customer 13047.0 is unique\n",
      "Customer 13047.0 is unique\n",
      "Customer 12583.0 is unique\n",
      "Customer 12583.0 is unique\n",
      "Customer 12583.0 is unique\n",
      "Customer 12583.0 is unique\n",
      "Customer 12583.0 is unique\n",
      "Customer 12583.0 is unique\n",
      "Customer 12583.0 is unique\n",
      "Customer 12583.0 is unique\n",
      "Customer 12583.0 is unique\n",
      "Customer 12583.0 is unique\n",
      "Customer 12583.0 is unique\n",
      "Customer 12583.0 is unique\n",
      "Customer 12583.0 is unique\n",
      "Customer 12583.0 is unique\n",
      "Customer 12583.0 is unique\n",
      "Customer 12583.0 is unique\n",
      "Customer 12583.0 is unique\n",
      "Customer 12583.0 is unique\n",
      "Customer 12583.0 is unique\n",
      "Customer 12583.0 is unique\n",
      "Customer 13748.0 is unique\n",
      "Customer 17850.0 is bulk\n",
      "Customer 17850.0 is bulk\n",
      "Customer 17850.0 is bulk\n",
      "Customer 17850.0 is bulk\n",
      "Customer 17850.0 is bulk\n",
      "Customer 17850.0 is bulk\n",
      "Customer 17850.0 is bulk\n",
      "Customer 17850.0 is bulk\n",
      "Customer 17850.0 is bulk\n",
      "Customer 17850.0 is bulk\n",
      "Customer 17850.0 is bulk\n",
      "Customer 17850.0 is bulk\n",
      "Customer 17850.0 is bulk\n",
      "Customer 17850.0 is bulk\n",
      "Customer 17850.0 is bulk\n",
      "Customer 17850.0 is bulk\n",
      "Customer 17850.0 is bulk\n",
      "Customer 17850.0 is bulk\n",
      "Customer 15100.0 is uncategorized\n",
      "Customer 17850.0 is bulk\n",
      "Customer 17850.0 is bulk\n",
      "Customer 17850.0 is bulk\n",
      "Customer 17850.0 is bulk\n",
      "Customer 17850.0 is bulk\n",
      "Customer 17850.0 is bulk\n",
      "Customer 17850.0 is bulk\n",
      "Customer 17850.0 is bulk\n",
      "Customer 17850.0 is bulk\n",
      "Customer 17850.0 is bulk\n",
      "Customer 17850.0 is bulk\n",
      "Customer 17850.0 is bulk\n",
      "Customer 17850.0 is bulk\n",
      "Customer 17850.0 is bulk\n",
      "Customer 17850.0 is bulk\n",
      "Customer 17850.0 is bulk\n",
      "Customer 15291.0 is uncategorized\n",
      "Customer 15291.0 is uncategorized\n",
      "Customer 17850.0 is bulk\n",
      "Customer 17850.0 is bulk\n",
      "Customer 14688.0 is uncategorized\n",
      "Customer 14688.0 is uncategorized\n",
      "Customer 14688.0 is uncategorized\n",
      "Customer 14688.0 is uncategorized\n",
      "Customer 14688.0 is uncategorized\n",
      "Customer 14688.0 is uncategorized\n",
      "Customer 14688.0 is uncategorized\n",
      "Customer 14688.0 is uncategorized\n",
      "Customer 14688.0 is uncategorized\n",
      "Customer 14688.0 is uncategorized\n",
      "Customer 14688.0 is uncategorized\n",
      "Customer 14688.0 is uncategorized\n",
      "Customer 14688.0 is uncategorized\n",
      "Customer 14688.0 is uncategorized\n"
     ]
    }
   ],
   "source": [
    "segments={0:\"bulk\",1:\"premium\",2:\"unique\",3:\"uncategorized\"}\n",
    "\n",
    "for i in range(len(data[0:100])):\n",
    "    print(\"Customer {} is {}\".format(data['CustomerID'][i],segments[clusters[i]]))"
   ]
  },
  {
   "cell_type": "code",
   "execution_count": null,
   "id": "5a706d4a",
   "metadata": {},
   "outputs": [],
   "source": []
  },
  {
   "cell_type": "code",
   "execution_count": null,
   "id": "9ec8578b",
   "metadata": {},
   "outputs": [],
   "source": []
  },
  {
   "cell_type": "code",
   "execution_count": null,
   "id": "4d806e46",
   "metadata": {},
   "outputs": [],
   "source": []
  },
  {
   "cell_type": "code",
   "execution_count": null,
   "id": "5378e842",
   "metadata": {},
   "outputs": [],
   "source": []
  },
  {
   "cell_type": "code",
   "execution_count": null,
   "id": "a29be48f",
   "metadata": {},
   "outputs": [],
   "source": []
  },
  {
   "cell_type": "code",
   "execution_count": null,
   "id": "24df434f",
   "metadata": {},
   "outputs": [],
   "source": []
  },
  {
   "cell_type": "code",
   "execution_count": 31,
   "id": "69d65c7f",
   "metadata": {
    "scrolled": true
   },
   "outputs": [
    {
     "name": "stdout",
     "output_type": "stream",
     "text": [
      "[2 2 2 ... 0 0 0]\n"
     ]
    },
    {
     "data": {
      "image/png": "[encoded data removed]",
      "text/plain": [
       "<Figure size 432x288 with 1 Axes>"
      ]
     },
     "metadata": {
      "needs_background": "light"
     },
     "output_type": "display_data"
    }
   ],
   "source": [
    "import pandas as pd\n",
    "from sklearn.cluster import KMeans \n",
    "import matplotlib.pyplot as plt\n",
    "\n",
    "def kmeans(data, k):\n",
    "    model = KMeans(n_clusters=k)\n",
    "    model.fit(data)\n",
    "    return model.labels_\n",
    "\n",
    "# Load data\n",
    "data = pd.read_csv(\"Online Retail.csv\")  \n",
    "\n",
    "# Select features\n",
    "features = [\"Quantity\", \"CustomerID\", \"UnitPrice\"]\n",
    "\n",
    "# Convert to numeric\n",
    "data[features] = data[features].apply(pd.to_numeric, errors='coerce')\n",
    "data[features] = data[features].fillna(0)\n",
    "\n",
    "# Cluster \n",
    "clusters = kmeans(data[features], 4)\n",
    "print(clusters)\n",
    "\n",
    "# Plot clusters\n",
    "for i in range(4):\n",
    "    plt.plot(data.loc[clusters==i, \"Quantity\"], data.loc[clusters==i, \"UnitPrice\"], \"o\", color=\"C\"+str(i))\n",
    "    \n",
    "plt.show()\n",
    "\n",
    "# Customer segments  \n",
    "segments = {0: \"bulk\", 1: \"premium\", 2: \"unique\", 3: \"uncategorized\"}\n",
    "\n",
    "# for i in range(len(data[0:200])):\n",
    "#     print(\"Customer {} is {}\".format(data[\"CustomerID\"][i], segments[clusters[i]]))\n"
   ]
  }
 ],
 "metadata": {
  "kernelspec": {
   "display_name": "Python 3 (ipykernel)",
   "language": "python",
   "name": "python3"
  },
  "language_info": {
   "codemirror_mode": {
    "name": "ipython",
    "version": 3
   },
   "file_extension": ".py",
   "mimetype": "text/x-python",
   "name": "python",
   "nbconvert_exporter": "python",
   "pygments_lexer": "ipython3",
   "version": "3.10.2"
  }
 },
 "nbformat": 4,
 "nbformat_minor": 5
}
