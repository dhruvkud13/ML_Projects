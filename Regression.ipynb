{
 "cells": [
  {
   "cell_type": "code",
   "execution_count": 20,
   "id": "1db22550",
   "metadata": {},
   "outputs": [
    {
     "data": {
      "image/png": "[encoded data removed]",
      "text/plain": [
       "<Figure size 432x288 with 1 Axes>"
      ]
     },
     "metadata": {
      "needs_background": "light"
     },
     "output_type": "display_data"
    },
    {
     "name": "stdout",
     "output_type": "stream",
     "text": [
      "[ 0.         -2.74490986  0.22111536]\n"
     ]
    }
   ],
   "source": [
    "import numpy as np\n",
    "import matplotlib.pyplot as plt\n",
    "from sklearn.linear_model import LinearRegression\n",
    "from sklearn.preprocessing import PolynomialFeatures\n",
    "# Create the data\n",
    "X = np.array([-2, -1.833, -1.667, -1.5, -1.333, -1.167, -1, -0.833, -0.667, -0.5, -0.333, -0.167, 0, 0.167, 0.333, 0.5, 0.667, 0.833, 1, 1.167, 1.333, 1.5, 1.667, 1.833, 2])\n",
    "y = np.array([4.903, 4.406, 3.891, 3.364, 2.829, 2.289, 1.748, 1.211, 0.682, 0.166, -0.343, -0.832, -1.313, -1.782, -2.237, -2.676, -3.098, -3.502, -3.887, -4.254, -4.601, -4.93, -5.24, -5.531, -5.802])\n",
    "\n",
    "# Create the polynomial features\n",
    "poly = PolynomialFeatures(degree=2)\n",
    "X_poly = poly.fit_transform(X.reshape(-1, 1))\n",
    "\n",
    "# Create the linear regression model\n",
    "lin_reg = LinearRegression()\n",
    "lin_reg.fit(X_poly, y)\n",
    "\n",
    "# Predict the values\n",
    "y_pred = lin_reg.predict(X_poly)\n",
    "\n",
    "# Plot the data\n",
    "plt.scatter(X, y)\n",
    "plt.plot(X, y_pred, color='red')\n",
    "plt.show()\n",
    "\n",
    "# Print the coefficients of the model\n",
    "print(lin_reg.coef_)\n",
    "\n"
   ]
  },
  {
   "cell_type": "code",
   "execution_count": 9,
   "id": "20f8d8bd",
   "metadata": {},
   "outputs": [
    {
     "name": "stdout",
     "output_type": "stream",
     "text": [
      "Score: 0.45085546483653016\n",
      "Coefficients: [3.62154831e+02 3.37831119e+05 1.43832208e+06]\n",
      "Predicted price: [4272803.59610005]\n"
     ]
    }
   ],
   "source": [
    "import numpy as np\n",
    "import pandas as pd\n",
    "from sklearn.linear_model import LinearRegression\n",
    "from sklearn.model_selection import train_test_split\n",
    "\n",
    "# Import the data\n",
    "data = pd.read_csv(\"Housing.csv\")\n",
    "\n",
    "# Clean the data\n",
    "data.dropna(inplace=True)\n",
    "\n",
    "# Identify the features\n",
    "features = [\"area\", \"bedrooms\", \"bathrooms\"]\n",
    "\n",
    "# Build the model\n",
    "model = LinearRegression()\n",
    "\n",
    "# Train the model\n",
    "X_train, X_test, y_train, y_test = train_test_split(data[features], data[\"price\"], test_size=0.25)\n",
    "model.fit(X_train, y_train)\n",
    "\n",
    "# Evaluate the model\n",
    "score = model.score(X_test, y_test)\n",
    "print(\"Score:\", score)\n",
    "\n",
    "# Interpret the results\n",
    "coefficients = model.coef_\n",
    "print(\"Coefficients:\", coefficients)\n",
    "\n",
    "# Predict the price for a new house with area = 1000 sqft, bedrooms = 3, bathrooms = 2\n",
    "new_input = np.array([1000, 3, 2])\n",
    "new_input = new_input.reshape(1, -1)\n",
    "predicted_price = model.predict(new_input)\n",
    "\n",
    "print(\"Predicted price:\", predicted_price)\n"
   ]
  },
  {
   "cell_type": "code",
   "execution_count": 18,
   "id": "501eb228",
   "metadata": {},
   "outputs": [
    {
     "data": {
      "image/png": "[encoded data removed]",
      "text/plain": [
       "<Figure size 432x288 with 1 Axes>"
      ]
     },
     "metadata": {
      "needs_background": "light"
     },
     "output_type": "display_data"
    }
   ],
   "source": [
    "#generate a synthetic data for polynomial regression\n",
    "import numpy as np\n",
    "import matplotlib.pyplot as plt\n",
    "np.random.seed(0)\n",
    "x = 2 - 3 * np.random.normal(0, 1, 20)\n",
    "y = x - 2 * (x ** 2) + 0.5 * (x ** 3) + np.random.normal(-3, 3, 20)\n",
    "plt.scatter(x,y,color=\"red\")\n",
    "plt.show()"
   ]
  },
  {
   "cell_type": "code",
   "execution_count": 21,
   "id": "79b435ac",
   "metadata": {},
   "outputs": [
    {
     "name": "stdout",
     "output_type": "stream",
     "text": [
      "Score: 0.32866652460408474\n",
      "Coefficients: [462.02959211]\n"
     ]
    }
   ],
   "source": [
    "import numpy as np\n",
    "import pandas as pd\n",
    "from sklearn.linear_model import LinearRegression\n",
    "from sklearn.model_selection import train_test_split\n",
    "\n",
    "# Import the data\n",
    "data = pd.read_csv(\"./Housing.csv\")\n",
    "\n",
    "# Clean the data\n",
    "data.dropna(inplace=True)\n",
    "\n",
    "# Identify the features\n",
    "features = [\"area\"]\n",
    "\n",
    "# Build the model\n",
    "model = LinearRegression()\n",
    "\n",
    "# Train the model\n",
    "X_train, X_test, y_train, y_test = train_test_split(data[features], data[\"price\"], test_size=0.25)\n",
    "model.fit(X_train, y_train)\n",
    "\n",
    "# Evaluate the model\n",
    "score = model.score(X_test, y_test)\n",
    "print(\"Score:\", score)\n",
    "\n",
    "# Interpret the results\n",
    "coefficients = model.coef_\n",
    "print(\"Coefficients:\", coefficients)"
   ]
  },
  {
   "cell_type": "code",
   "execution_count": null,
   "id": "1f440038",
   "metadata": {},
   "outputs": [],
   "source": [
    "import pandas as pd\n",
    "\n",
    "# Create a DataFrame from the image data\n",
    "df = pd.DataFrame({\n",
    "    \"CustomerId\": [234, 344, 197, 245, 523, 201, 235, 255, 367, 347],\n",
    "    \"StreetNo\": [104, N, N, N, 12, 12, 207, NA, 213, 215],\n",
    "    \"Streetname\": [\"MG Road\", \"Red\", \"Netaji Subashi Road\", \"pink\", \"Yello\", \"Shivaji Road\", \"Azad Road\", \"WHite\", \"Gole Market\", \"Gole Market\"],\n",
    "    \"OwnerOccupied\": [\"3\", \"N\", \"N\", \"n/a\", \"3\", \"Y\", \"Y\", \"NA\", \"Y\", \"Y\"],\n",
    "    \"NoBedRooms\": [1, 3, 3, 1, 1, 3, NA, 1, 1, 2],\n",
    "    \"NoBathRooms\": [1, 15, 2, 1, 1, 2, NA, 1, 1, 2],\n",
    "    \"AreaSqFt\": [1000, 1000, 1600, 850, 700, 1600, 800, 950, 1800, 1800],\n",
    "    \"Color\": [\"White\", \"Red\", \"Green\", \"pink\", \"Yello\", \"Green\", \"WHite\", \"RED\", \"pink\", \"RED\"]\n",
    "})\n",
    "\n",
    "# Count the number of missing values per column\n",
    "missing_values_per_column = df.isnull().sum()\n",
    "print(missing_values_per_column)\n",
    "\n",
    "# Count total missing values\n",
    "total_missing_values = df.isnull().sum().sum()\n",
    "print(total_missing_values)\n",
    "\n",
    "# How many observations remain if we drop rows with missing values?\n",
    "df_dropped = df.dropna()\n",
    "print(df_dropped.shape[0])\n",
    "\n",
    "# Include “n/a”,”na” and “—” as missing values\n",
    "df = df.replace({\"n/a\": np.nan, \"na\": np.nan, \"--\": np.nan})\n",
    "\n",
    "# Rename the columen 'AreaSqFt' with \"Area'\n",
    "df.rename(columns={\"AreaSqFt\": \"Area\"}, inplace=True)\n",
    "\n",
    "# Count number of duplicate rows and remove them.\n",
    "duplicate_rows = df[df.duplicated()]\n",
    "print(duplicate_rows.shape[0])\n",
    "df = df.drop_duplicates()\n",
    "\n",
    "# Remove column 'color'\n",
    "df = df.drop(\"Color\", axis=1)\n",
    "\n",
    "# Make CustomerId column index\n",
    "df.set_index(\"CustomerId\", inplace=True)\n",
    "\n",
    "# In the “OwnerOccupied” column, ensure that there are no numeric values.\n",
    "df[\"OwnerOccupied\"] = df[\"OwnerOccupied\"].astype(\"object\")\n",
    "\n",
    "# For customer id=245, fill the “Streetno” with value “125”\n",
    "df.loc[245, \"StreetNo\"] = 125\n",
    "\n",
    "# Fill the “NoBedRooms” with median value of the column\n",
    "median_bedrooms = df[\"NoBedRooms\"].median()\n",
    "df[\"NoBedRooms\"].fillna(median_bedrooms, inplace=True)\n",
    "\n",
    "print(df)\n"
   ]
  }
 ],
 "metadata": {
  "kernelspec": {
   "display_name": "Python 3 (ipykernel)",
   "language": "python",
   "name": "python3"
  },
  "language_info": {
   "codemirror_mode": {
    "name": "ipython",
    "version": 3
   },
   "file_extension": ".py",
   "mimetype": "text/x-python",
   "name": "python",
   "nbconvert_exporter": "python",
   "pygments_lexer": "ipython3",
   "version": "3.10.2"
  }
 },
 "nbformat": 4,
 "nbformat_minor": 5
}
