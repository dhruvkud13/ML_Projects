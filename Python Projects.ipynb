{
 "cells": [
  {
   "cell_type": "markdown",
   "id": "c8e5ec0b",
   "metadata": {},
   "source": [
    "rock paper scissors"
   ]
  },
  {
   "cell_type": "code",
   "execution_count": 4,
   "id": "8860d5b9",
   "metadata": {},
   "outputs": [
    {
     "name": "stdout",
     "output_type": "stream",
     "text": [
      "Choose Rock, Paper, or Scissors: paper\n",
      "paper\n",
      "rock\n",
      "You win!\n"
     ]
    }
   ],
   "source": [
    "import random\n",
    "\n",
    "def play_rock_paper_scissors():\n",
    "  \"\"\"Plays a game of Rock Paper Scissors against the computer.\"\"\"\n",
    "\n",
    "  # Get the user's choice.\n",
    "  user_choice = input(\"Choose Rock, Paper, or Scissors: \").lower()\n",
    "  print(user_choice)\n",
    "\n",
    "  # Generate a random choice for the computer.\n",
    "  computer_choice = random.choice([\"rock\", \"paper\", \"scissors\"])\n",
    "  print(computer_choice)\n",
    "  # Determine the winner.\n",
    "  if user_choice == computer_choice:\n",
    "    print(\"It's a tie!\")\n",
    "  elif user_choice == \"rock\":\n",
    "    if computer_choice == \"scissors\":\n",
    "      print(\"You win!\")\n",
    "    else:\n",
    "      print(\"You lose!\")\n",
    "  elif user_choice == \"paper\":\n",
    "    if computer_choice == \"rock\":\n",
    "      print(\"You win!\")\n",
    "    else:\n",
    "      print(\"You lose!\")\n",
    "  elif user_choice == \"scissors\":\n",
    "    if computer_choice == \"paper\":\n",
    "      print(\"You win!\")\n",
    "    else:\n",
    "      print(\"You lose!\")\n",
    "  else:\n",
    "    print('input error')\n",
    "\n",
    "if __name__ == \"__main__\":\n",
    "  play_rock_paper_scissors()\n"
   ]
  },
  {
   "cell_type": "markdown",
   "id": "120b1b4c",
   "metadata": {},
   "source": [
    "Write a program that takes a string as input,\n",
    "and counts the frequency of each word in\n",
    "the string, there might be repeated\n",
    "characters in the string. Your task is to find\n",
    "the highest frequency and returns the length\n",
    "of the highest-frequency word.\n",
    "Example:\n",
    "Input string = write write write all the number\n",
    "from from from 1 to 100\n",
    "Output = Length of the highest-frequency\n",
    "word: 5"
   ]
  },
  {
   "cell_type": "code",
   "execution_count": 61,
   "id": "4e9aaaad",
   "metadata": {},
   "outputs": [
    {
     "name": "stdout",
     "output_type": "stream",
     "text": [
      "{'from': 4, 'write': 3, 'all': 1, 'the': 1, 'number': 1, '1': 1, 'to': 1, '100': 1}\n",
      "Length of the highest-frequency word: ('from', 4)\n"
     ]
    }
   ],
   "source": [
    "import re\n",
    "\n",
    "def find_highest_frequency_word(string):\n",
    "  \"\"\"Finds the highest frequency word in a string and returns its length.\"\"\"\n",
    "\n",
    "  word_counts = {}\n",
    "  for word in string.split(\" \"):\n",
    "    if word in word_counts:\n",
    "      word_counts[word] += 1\n",
    "    else:\n",
    "      word_counts[word] = 1\n",
    "\n",
    "  print(word_counts)\n",
    "  highest_frequency = 0\n",
    "  highest_frequency_word= ''\n",
    "  for word, count in word_counts.items():\n",
    "    if count > highest_frequency:\n",
    "      highest_frequency = count\n",
    "      highest_frequency_word = word\n",
    "  return highest_frequency_word, len(highest_frequency_word)\n",
    "\n",
    "if __name__ == \"__main__\":\n",
    "  string = \"from write write write all the number from from from 1 to 100\"\n",
    "  length_of_highest_frequency_word = find_highest_frequency_word(string)\n",
    "  print(\"Length of the highest-frequency word:\", length_of_highest_frequency_word)\n"
   ]
  },
  {
   "cell_type": "markdown",
   "id": "d2a6d0e8",
   "metadata": {},
   "source": [
    "Write a program that takes an integer as\n",
    "input, and creates a mathematical table of\n",
    "that number.\n",
    "1 x number = result\n",
    "2 x number = result\n",
    "3x number = result\n",
    ".\n",
    ".\n",
    ".\n",
    "10 x number = result"
   ]
  },
  {
   "cell_type": "code",
   "execution_count": 69,
   "id": "81818e32",
   "metadata": {},
   "outputs": [
    {
     "name": "stdout",
     "output_type": "stream",
     "text": [
      "Enter a number: 3\n",
      "1 x 3 = 3\n",
      "2 x 3 = 6\n",
      "3 x 3 = 9\n",
      "4 x 3 = 12\n",
      "5 x 3 = 15\n",
      "6 x 3 = 18\n",
      "7 x 3 = 21\n",
      "8 x 3 = 24\n",
      "9 x 3 = 27\n",
      "10 x 3 = 30\n"
     ]
    }
   ],
   "source": [
    "def multiplication_table(number):\n",
    "  \"\"\"Creates a mathematical table of the given number.\"\"\"\n",
    "\n",
    "  for i in range(1, 11):\n",
    "    result = i * number\n",
    "    print(f\"{i} x {number} = {result}\")\n",
    "\n",
    "if __name__ == \"__main__\":\n",
    "  number = int(input(\"Enter a number: \"))\n",
    "  multiplication_table(number)"
   ]
  },
  {
   "cell_type": "markdown",
   "id": "43165103",
   "metadata": {},
   "source": [
    "Write a program that takes a string as input,\n",
    "and determines if all characters of the string\n",
    "appear the same number of times. If so,\n",
    "return\n",
    "\"YES\". Otherwise, check if removing\n",
    "just one character at any index in the string\n",
    "will make all characters appear the same\n",
    "number of times. If so, return\n",
    "\"YES\".\n",
    "Otherwise, return\n",
    "\"NO\"."
   ]
  },
  {
   "cell_type": "code",
   "execution_count": 79,
   "id": "760ce1ec",
   "metadata": {},
   "outputs": [
    {
     "name": "stdout",
     "output_type": "stream",
     "text": [
      "a\n",
      "{'a': 0, 'b': 1, 'c': 1, 'd': 1, 'e': 2}\n",
      "b\n",
      "{'a': 1, 'b': 0, 'c': 1, 'd': 1, 'e': 2}\n",
      "c\n",
      "{'a': 1, 'b': 1, 'c': 0, 'd': 1, 'e': 2}\n",
      "d\n",
      "{'a': 1, 'b': 1, 'c': 1, 'd': 0, 'e': 2}\n",
      "e\n",
      "{'a': 1, 'b': 1, 'c': 1, 'd': 1, 'e': 1}\n",
      "YES\n"
     ]
    }
   ],
   "source": [
    "def balanced_string(input_str):\n",
    "  \n",
    "  # Count frequency of each char\n",
    "  char_counts = {}\n",
    "  for char in input_str:\n",
    "    if char in char_counts:\n",
    "      char_counts[char] += 1\n",
    "    else:\n",
    "      char_counts[char] = 1\n",
    "      \n",
    "  # Check if all counts are equal\n",
    "  values = set(char_counts.values())\n",
    "  if len(values) == 1:\n",
    "    return \"YES\"\n",
    "  \n",
    "  # Check if removing 1 char makes counts equal\n",
    "  for i in range(len(input_str)):\n",
    "    char = input_str[i]\n",
    "    print(char)\n",
    "    char_counts[char] -= 1\n",
    "    print(char_counts)\n",
    "    if len(set(char_counts.values())) == 1:\n",
    "      return \"YES\"\n",
    "    char_counts[char] += 1\n",
    "    \n",
    "  return \"NO\"\n",
    "\n",
    "if __name__ == \"__main__\":\n",
    "    string=\"abcdee\"\n",
    "    print(balanced_string(string))"
   ]
  },
  {
   "cell_type": "markdown",
   "id": "04e55f26",
   "metadata": {},
   "source": [
    "Write a Python program that allows the user\n",
    "to create a dictionary of personal details for\n",
    "a group of people. The program should ask\n",
    "the user to enter the name, age, and\n",
    "occupation for each person, and then store\n",
    "this information in a dictionary. Once all the\n",
    "details have been entered, the program\n",
    "should print out the dictionary.\n",
    "Here is how the output of the Python program\n",
    "would look like:\n",
    "{\n",
    "{'Name':'John','Age': 30,'Occupation':'Engineer'},\n",
    "{'Name':'Sarah','Age': 25,'Occupation':'Teacher'}\n",
    "}"
   ]
  },
  {
   "cell_type": "code",
   "execution_count": 80,
   "id": "d30abb3d",
   "metadata": {},
   "outputs": [
    {
     "name": "stdout",
     "output_type": "stream",
     "text": [
      "Enter number of people: 2\n",
      "Enter name: dk\n",
      "Enter age: 20\n",
      "Enter occupation: student\n",
      "Enter name: sk\n",
      "Enter age: 51\n",
      "Enter occupation: doctor\n",
      "[{'Name': 'dk', 'Age': 20, 'Occupation': 'student'}, {'Name': 'sk', 'Age': 51, 'Occupation': 'doctor'}]\n"
     ]
    }
   ],
   "source": [
    "people = []\n",
    "\n",
    "num_people = int(input(\"Enter number of people: \"))\n",
    "\n",
    "for i in range(num_people):\n",
    "  person = {}\n",
    "  name = input(\"Enter name: \")\n",
    "  age = int(input(\"Enter age: \"))\n",
    "  occupation = input(\"Enter occupation: \")\n",
    "  \n",
    "  person['Name'] = name\n",
    "  person['Age'] = age \n",
    "  person['Occupation'] = occupation\n",
    "  \n",
    "  people.append(person)\n",
    "\n",
    "print(people)"
   ]
  }
 ],
 "metadata": {
  "kernelspec": {
   "display_name": "Python 3 (ipykernel)",
   "language": "python",
   "name": "python3"
  },
  "language_info": {
   "codemirror_mode": {
    "name": "ipython",
    "version": 3
   },
   "file_extension": ".py",
   "mimetype": "text/x-python",
   "name": "python",
   "nbconvert_exporter": "python",
   "pygments_lexer": "ipython3",
   "version": "3.10.2"
  }
 },
 "nbformat": 4,
 "nbformat_minor": 5
}
